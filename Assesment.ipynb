{
 "cells": [
  {
   "cell_type": "code",
   "execution_count": 9,
   "metadata": {},
   "outputs": [],
   "source": [
    "def createfile():\n",
    "    search=\"placement\"\n",
    "    replace=\"screening\"\n",
    "    with open(\"G:/example.txt\",\"r+\") as file:\n",
    "            data=file.read()\n",
    "            data=data.replace(search,replace)\n",
    "            \n",
    "    with open(\"G:/example.txt\",\"w\") as file:\n",
    "            file.write(data)\n",
    "    \n",
    "    print(\"The file is replaced\")"
   ]
  },
  {
   "cell_type": "code",
   "execution_count": 10,
   "metadata": {},
   "outputs": [
    {
     "name": "stdout",
     "output_type": "stream",
     "text": [
      "The file is replaced\n"
     ]
    }
   ],
   "source": [
    "createfile()"
   ]
  },
  {
   "cell_type": "code",
   "execution_count": 11,
   "metadata": {},
   "outputs": [],
   "source": [
    "#the use of abstract class , multiple inhritence and decorator"
   ]
  },
  {
   "cell_type": "code",
   "execution_count": 14,
   "metadata": {},
   "outputs": [
    {
     "name": "stdout",
     "output_type": "stream",
     "text": [
      "4 sides\n"
     ]
    }
   ],
   "source": [
    "#abstract class\n",
    "from abc import ABC\n",
    "class Square(ABC):\n",
    "    def nosides(self):\n",
    "        pass\n",
    "class Rectangle(ABC):\n",
    "    def nosides(self):\n",
    "        print(\"4 sides\")\n",
    "S=Square()\n",
    "S.nosides()\n",
    "R=Rectangle()\n",
    "R.nosides()"
   ]
  },
  {
   "cell_type": "code",
   "execution_count": 17,
   "metadata": {},
   "outputs": [
    {
     "name": "stdout",
     "output_type": "stream",
     "text": [
      "Monkey\n"
     ]
    }
   ],
   "source": [
    "#multiple inheritence\n",
    "class Ant:\n",
    "    def fun(self):\n",
    "        print(\"Ant\")\n",
    "class Monkey(Ant):\n",
    "    def fun(self):\n",
    "        print(\"Monkey\")\n",
    "class Cat(Ant):\n",
    "     def fun(self):\n",
    "            print(\"Cat\")\n",
    "class Animal(Monkey,Cat):\n",
    "    pass\n",
    "\n",
    "A=Animal()\n",
    "A.fun()\n",
    "    \n",
    "    "
   ]
  },
  {
   "cell_type": "code",
   "execution_count": 22,
   "metadata": {},
   "outputs": [
    {
     "name": "stdout",
     "output_type": "stream",
     "text": [
      "HELLO\n"
     ]
    }
   ],
   "source": [
    "#decorator\n",
    "def upper(text):\n",
    "    return text.upper()\n",
    "print(upper(\"Hello\"))"
   ]
  },
  {
   "cell_type": "code",
   "execution_count": null,
   "metadata": {},
   "outputs": [],
   "source": []
  }
 ],
 "metadata": {
  "kernelspec": {
   "display_name": "Python 3",
   "language": "python",
   "name": "python3"
  },
  "language_info": {
   "codemirror_mode": {
    "name": "ipython",
    "version": 3
   },
   "file_extension": ".py",
   "mimetype": "text/x-python",
   "name": "python",
   "nbconvert_exporter": "python",
   "pygments_lexer": "ipython3",
   "version": "3.8.5"
  }
 },
 "nbformat": 4,
 "nbformat_minor": 4
}
